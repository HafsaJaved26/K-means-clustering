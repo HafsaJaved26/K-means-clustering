{
 "cells": [
  {
   "cell_type": "code",
   "execution_count": 1,
   "id": "676df4d8",
   "metadata": {},
   "outputs": [],
   "source": [
    "import numpy as np"
   ]
  },
  {
   "cell_type": "code",
   "execution_count": 2,
   "id": "eb4f364a",
   "metadata": {},
   "outputs": [],
   "source": [
    "cluster1=np.array([2,4])\n",
    "cluster2=np.array([5,9])\n",
    "cluster3=np.array([6,14])\n",
    "cluster4=np.array([12,24])"
   ]
  },
  {
   "cell_type": "code",
   "execution_count": 3,
   "id": "b5134bee",
   "metadata": {},
   "outputs": [],
   "source": [
    "k1=cluster1\n",
    "k2=cluster2"
   ]
  },
  {
   "cell_type": "code",
   "execution_count": 4,
   "id": "106d8a47",
   "metadata": {},
   "outputs": [],
   "source": [
    "def euclidean_distance(cluster1, cluster2):\n",
    "    return np.sqrt(np.sum((cluster1 - cluster2)**2))"
   ]
  },
  {
   "cell_type": "code",
   "execution_count": 5,
   "id": "a9bf096d",
   "metadata": {},
   "outputs": [],
   "source": [
    "distances = {\n",
    "    '1-3': euclidean_distance(cluster1, cluster3),\n",
    "    '1-4': euclidean_distance(cluster1, cluster4),\n",
    "    '2-3': euclidean_distance(cluster2, cluster3),\n",
    "    '2-4': euclidean_distance(cluster2, cluster4),\n",
    "    '3-4': euclidean_distance(cluster3, cluster4)\n",
    "}"
   ]
  },
  {
   "cell_type": "code",
   "execution_count": 6,
   "id": "87cd4edb",
   "metadata": {},
   "outputs": [],
   "source": [
    "best_pair = min(distances, key=distances.get)\n",
    "best_distance = distances[best_pair]"
   ]
  },
  {
   "cell_type": "code",
   "execution_count": 7,
   "id": "db292fa8",
   "metadata": {},
   "outputs": [
    {
     "name": "stdout",
     "output_type": "stream",
     "text": [
      "The best pair of clusters is 2-3 with a distance of 5.10\n"
     ]
    }
   ],
   "source": [
    "print(f\"The best pair of clusters is {best_pair} with a distance of {best_distance:.2f}\")"
   ]
  },
  {
   "cell_type": "code",
   "execution_count": 9,
   "id": "d7cb123d",
   "metadata": {},
   "outputs": [],
   "source": [
    "average_x = (cluster2[0] + cluster3[0]) / 2\n",
    "average_y = (cluster2[1] + cluster3[1]) / 2\n",
    "average_cluster = np.array([average_x, average_y])\n",
    "\n",
    "# Update k1 with the average of cluster2 and cluster3\n",
    "k1 = average_cluster\n",
    "\n"
   ]
  },
  {
   "cell_type": "code",
   "execution_count": 10,
   "id": "34f88f12",
   "metadata": {},
   "outputs": [
    {
     "name": "stdout",
     "output_type": "stream",
     "text": [
      "Updated k1: [ 5.5 11.5]\n"
     ]
    }
   ],
   "source": [
    "# Output the results\n",
    "print(f\"Updated k1: {k1}\")"
   ]
  },
  {
   "cell_type": "code",
   "execution_count": null,
   "id": "c5826d73",
   "metadata": {},
   "outputs": [],
   "source": []
  }
 ],
 "metadata": {
  "kernelspec": {
   "display_name": "Python 3 (ipykernel)",
   "language": "python",
   "name": "python3"
  },
  "language_info": {
   "codemirror_mode": {
    "name": "ipython",
    "version": 3
   },
   "file_extension": ".py",
   "mimetype": "text/x-python",
   "name": "python",
   "nbconvert_exporter": "python",
   "pygments_lexer": "ipython3",
   "version": "3.10.9"
  }
 },
 "nbformat": 4,
 "nbformat_minor": 5
}
